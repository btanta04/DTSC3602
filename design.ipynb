{
 "cells": [
  {
   "cell_type": "code",
   "execution_count": null,
   "metadata": {},
   "outputs": [],
   "source": [
    "import matplotlib.pyplot as plt\n",
    "import numpy as np\n"
   ]
  },
  {
   "cell_type": "code",
   "execution_count": null,
   "metadata": {},
   "outputs": [],
   "source": [
    "# Data for Task Completion Times (in minutes for each participant)\n",
    "participants = ['Participant A', 'Participant B', 'Participant C', 'Participant D', 'Participant E', 'Participant F']\n",
    "tasks = ['Create Account', 'Build a Bear 1', 'Plan a Party', 'Add/Remove Item', 'Build a Bear 2']\n"
   ]
  },
  {
   "cell_type": "code",
   "execution_count": null,
   "metadata": {},
   "outputs": [],
   "source": [
    "completion_times = {\n",
    "    'Participant G': [0.10, 1.50, 1.09, 0.26, 1.30],\n",
    "    'Participant R': [0.51, 4.04, 1.52, 1.05, 1.25],\n",
    "    'Participant K': [1.53, 6.43, 2.58, 0.53, 1.12],\n",
    "    'Participant A': [1.26, 2.53, 3.02, 0.48, 2.13],\n",
    "    'Participant J': [1.13, 0.35, 1.55, 0.20, 0.30],\n",
    "    'Participant N': [1.00, 0.55, 1.40, 0.14, 0.50]\n",
    "}\n"
   ]
  },
  {
   "cell_type": "code",
   "execution_count": null,
   "metadata": {},
   "outputs": [],
   "source": [
    "# Bar chart for task completion times for each participant\n",
    "fig, ax = plt.subplots(figsize=(10, 6))\n",
    "\n",
    "bar_width = 0.12\n",
    "index = np.arange(len(tasks))\n",
    "\n",
    "for i, participant in enumerate(participants):\n",
    "    plt.bar(index + i * bar_width, completion_times[participant], bar_width, label=participant)\n",
    "\n",
    "ax.set_xlabel('Tasks')\n",
    "ax.set_ylabel('Completion Time (Minutes)')\n",
    "ax.set_title('Task Completion Times per Participant')\n",
    "ax.set_xticks(index + bar_width * 2.5)\n",
    "ax.set_xticklabels(tasks)\n",
    "plt.legend()\n",
    "\n",
    "# Display the bar chart\n",
    "plt.tight_layout()\n",
    "plt.show()\n"
   ]
  },
  {
   "cell_type": "code",
   "execution_count": null,
   "metadata": {},
   "outputs": [],
   "source": [
    "\n",
    "# Data for first vs. second Build-A-Bear Task Time (in minutes)\n",
    "first_build_times = [1.50, 4.04, 6.43, 2.53, 0.35, 0.55]\n",
    "second_build_times = [1.30, 1.25, 1.12, 2.13, 0.30, 0.50]\n",
    "\n",
    "\n",
    "# Line chart for first vs second build-a-bear task times\n",
    "fig, ax = plt.subplots(figsize=(10, 6))\n",
    "\n",
    "ax.plot(participants, first_build_times, marker='o', label='First Build-A-Bear Time', linestyle='-')\n",
    "ax.plot(participants, second_build_times, marker='o', label='Second Build-A-Bear Time', linestyle='--')\n",
    "\n",
    "ax.set_xlabel('Participants')\n",
    "ax.set_ylabel('Completion Time (Minutes)')\n",
    "ax.set_title('First vs Second Build-A-Bear Task Times')\n",
    "plt.legend()\n",
    "\n",
    "# Display the line chart\n",
    "plt.tight_layout()\n",
    "plt.show()"
   ]
  }
 ],
 "metadata": {
  "language_info": {
   "name": "python"
  }
 },
 "nbformat": 4,
 "nbformat_minor": 2
}
